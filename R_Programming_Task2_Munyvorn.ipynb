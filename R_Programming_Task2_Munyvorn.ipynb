{
 "cells": [
  {
   "cell_type": "code",
   "execution_count": null,
   "metadata": {
    "_execution_state": "idle",
    "_uuid": "051d70d956493feee0c6d64651c6a088724dca2a"
   },
   "outputs": [],
   "source": [
    "# This R environment comes with many helpful analytics packages installed\n",
    "# It is defined by the kaggle/rstats Docker image: https://github.com/kaggle/docker-rstats\n",
    "# For example, here's a helpful package to load\n",
    "\n",
    "library(tidyverse) # metapackage of all tidyverse packages\n",
    "# Input data files are available in the read-only \"../input/\" directory\n",
    "# For example, running this (by clicking run or pressing Shift+Enter) will list all files under the input directory\n",
    "\n",
    "list.files(path = \"../input\")\n",
    "\n",
    "\n",
    "# You can write up to 20GB to the current directory (/kaggle/working/) that gets preserved as output when you create a version using \"Save & Run All\" \n",
    "# You can also write temporary files to /kaggle/temp/, but they won't be saved outside of the current session"
   ]
  },
  {
   "cell_type": "markdown",
   "metadata": {},
   "source": [
    "# Author: Chea Kimmunyvorn\n",
    "# Batch 4\n",
    "# ID: 1101701002 \n",
    "# Task: R Progrmaming Assingment 2\n",
    "# Published Date: 4th Dec 2020"
   ]
  },
  {
   "cell_type": "markdown",
   "metadata": {},
   "source": [
    "# Exercise 1:"
   ]
  },
  {
   "cell_type": "code",
   "execution_count": 1,
   "metadata": {},
   "outputs": [
    {
     "name": "stdout",
     "output_type": "stream",
     "text": [
      "the sum without loop is: 2177844976\n",
      "the sum with loop is: 2177844976"
     ]
    }
   ],
   "source": [
    "#1 a. Finds summation from 5 -> 100 without loop \n",
    "a <- 5:100 \n",
    "sum <- sum(a^4 + 5*a^3)\n",
    "cat(\"the sum without loop is:\", sum)\n",
    "# Finds summation from 5 -> 100 with loop \n",
    "a <- 5\n",
    "sum <- 0\n",
    "while(a<=100) {\n",
    "    temp <- a^4 + 5*a^3\n",
    "    sum <- sum + temp\n",
    "    a <- a + 1   \n",
    "}\n",
    "cat(\"\\nthe sum with loop is:\",sum)\n"
   ]
  },
  {
   "cell_type": "code",
   "execution_count": 2,
   "metadata": {},
   "outputs": [
    {
     "name": "stdout",
     "output_type": "stream",
     "text": [
      "U40 =  165580141"
     ]
    }
   ],
   "source": [
    "#1 b. Calculate U40 \n",
    "U1 <- 1\n",
    "U2 <- 2\n",
    "count <- 3\n",
    "while(count<=40) {\n",
    "    temp <- U1 + U2\n",
    "    U1 <- U2\n",
    "    U2 <- temp\n",
    "    ## check each iteration value:\n",
    "    ## print(temp)\n",
    "    count<- count + 1\n",
    "}\n",
    "cat(\"U40 = \",temp)"
   ]
  },
  {
   "cell_type": "code",
   "execution_count": 88,
   "metadata": {},
   "outputs": [
    {
     "name": "stdout",
     "output_type": "stream",
     "text": [
      "Enter a value in degree: 45\n",
      "sin( 45 )=  0.7071068 \n",
      "cos( 45 )=  0.7071068"
     ]
    }
   ],
   "source": [
    "#1 c. Calculate sinx, cosx using Taylor Series (and get input from user)\n",
    "\n",
    "n <- 0:45\n",
    "sum<- 0\n",
    "x <- as.integer(readline(prompt=\"Enter a value in degree: \"))\n",
    "if(x%%360 == 90) {\n",
    "    cat(\"sin(x)= 1 \\ncos(x)= 0\")\n",
    "} else if (x%%360==180) {\n",
    "    cat(\"sin(x)= 0 \\ncos(x)= 1\")\n",
    "} else if (x%%360==270) {\n",
    "    cat(\"sin(x)= -1 \\ncos(x) = 0\")\n",
    "} else if (x%%360==0) {\n",
    "    cat(\"sin(x)= 0 \\ncos(x) = 1\")\n",
    "} else {\n",
    "    #applying Taylor Series Formula for calculating sin and cos \n",
    "    temp <- x\n",
    "    x <- x*pi/180\n",
    "    sinx <- sum(((-1)^n * x^((2*n)+1))/factorial(2*n+1))\n",
    "    cosx <- sum(((-1)^n * x^(2*n))/factorial(2*n))\n",
    "    cat(\"sin(\", temp , \")= \",sinx, \"\\ncos(\", temp, \")= \",cosx)\n",
    "}\n",
    "# Compare value with built-in function: sin(x), cos(x), where x is in radiance\n",
    "# Formula Reference: https://people.math.sc.edu/girardi/m142/handouts/10sTaylorPolySeries.pdf\n"
   ]
  },
  {
   "cell_type": "code",
   "execution_count": 3,
   "metadata": {},
   "outputs": [
    {
     "name": "stdout",
     "output_type": "stream",
     "text": [
      "the vector of (e^x)cosx at x = 3, 3.1, 3.2, ..., 6 is: \n",
      "\n"
     ]
    },
    {
     "data": {
      "text/html": [
       "<style>\n",
       ".list-inline {list-style: none; margin:0; padding: 0}\n",
       ".list-inline>li {display: inline-block}\n",
       ".list-inline>li:not(:last-child)::after {content: \"\\00b7\"; padding: 0 .5ex}\n",
       "</style>\n",
       "<ol class=list-inline><li>-19.884530844147</li><li>-22.1787533893421</li><li>-24.4906967328013</li><li>-26.7731824429934</li><li>-28.9692377680936</li><li>-31.0111864393745</li><li>-32.8197747603385</li><li>-34.3033601103737</li><li>-35.3571936185304</li><li>-35.8628337123077</li><li>-35.6877324801191</li><li>-34.6850422516681</li><li>-32.6936954283217</li><li>-29.538816297263</li><li>-25.03252922904</li><li>-18.975233154959</li><li>-11.1574173896476</li><li>-1.36209851820594</li><li>10.6320380101918</li><li>25.0467049982726</li><li>42.0992010625379</li><li>61.996630276694</li><li>84.9290673625018</li><li>111.061586042025</li><li>140.525075052786</li><li>173.405776408576</li><li>209.733494247833</li><li>249.468440558854</li><li>292.48670673712</li><li>338.564377858509</li><li>387.360340290928</li></ol>\n"
      ],
      "text/latex": [
       "\\begin{enumerate*}\n",
       "\\item -19.884530844147\n",
       "\\item -22.1787533893421\n",
       "\\item -24.4906967328013\n",
       "\\item -26.7731824429934\n",
       "\\item -28.9692377680936\n",
       "\\item -31.0111864393745\n",
       "\\item -32.8197747603385\n",
       "\\item -34.3033601103737\n",
       "\\item -35.3571936185304\n",
       "\\item -35.8628337123077\n",
       "\\item -35.6877324801191\n",
       "\\item -34.6850422516681\n",
       "\\item -32.6936954283217\n",
       "\\item -29.538816297263\n",
       "\\item -25.03252922904\n",
       "\\item -18.975233154959\n",
       "\\item -11.1574173896476\n",
       "\\item -1.36209851820594\n",
       "\\item 10.6320380101918\n",
       "\\item 25.0467049982726\n",
       "\\item 42.0992010625379\n",
       "\\item 61.996630276694\n",
       "\\item 84.9290673625018\n",
       "\\item 111.061586042025\n",
       "\\item 140.525075052786\n",
       "\\item 173.405776408576\n",
       "\\item 209.733494247833\n",
       "\\item 249.468440558854\n",
       "\\item 292.48670673712\n",
       "\\item 338.564377858509\n",
       "\\item 387.360340290928\n",
       "\\end{enumerate*}\n"
      ],
      "text/markdown": [
       "1. -19.884530844147\n",
       "2. -22.1787533893421\n",
       "3. -24.4906967328013\n",
       "4. -26.7731824429934\n",
       "5. -28.9692377680936\n",
       "6. -31.0111864393745\n",
       "7. -32.8197747603385\n",
       "8. -34.3033601103737\n",
       "9. -35.3571936185304\n",
       "10. -35.8628337123077\n",
       "11. -35.6877324801191\n",
       "12. -34.6850422516681\n",
       "13. -32.6936954283217\n",
       "14. -29.538816297263\n",
       "15. -25.03252922904\n",
       "16. -18.975233154959\n",
       "17. -11.1574173896476\n",
       "18. -1.36209851820594\n",
       "19. 10.6320380101918\n",
       "20. 25.0467049982726\n",
       "21. 42.0992010625379\n",
       "22. 61.996630276694\n",
       "23. 84.9290673625018\n",
       "24. 111.061586042025\n",
       "25. 140.525075052786\n",
       "26. 173.405776408576\n",
       "27. 209.733494247833\n",
       "28. 249.468440558854\n",
       "29. 292.48670673712\n",
       "30. 338.564377858509\n",
       "31. 387.360340290928\n",
       "\n",
       "\n"
      ],
      "text/plain": [
       " [1] -19.884531 -22.178753 -24.490697 -26.773182 -28.969238 -31.011186\n",
       " [7] -32.819775 -34.303360 -35.357194 -35.862834 -35.687732 -34.685042\n",
       "[13] -32.693695 -29.538816 -25.032529 -18.975233 -11.157417  -1.362099\n",
       "[19]  10.632038  25.046705  42.099201  61.996630  84.929067 111.061586\n",
       "[25] 140.525075 173.405776 209.733494 249.468441 292.486707 338.564378\n",
       "[31] 387.360340"
      ]
     },
     "metadata": {},
     "output_type": "display_data"
    }
   ],
   "source": [
    "#1 d. create vector of (e^x)cosx, x= 3,3.1,3.2, ... , 6\n",
    "vector <- c()\n",
    "x <- 3\n",
    "while (x<=6) {\n",
    "    vector<-  c(vector, exp(x)*cos(x))\n",
    "    x <- x + 0.1\n",
    "}\n",
    "cat(\"the vector of (e^x)cosx at x = 3, 3.1, 3.2, ..., 6 is: \\n\\n\")\n",
    "vector"
   ]
  },
  {
   "cell_type": "code",
   "execution_count": 4,
   "metadata": {},
   "outputs": [
    {
     "data": {
      "text/html": [
       "<style>\n",
       ".list-inline {list-style: none; margin:0; padding: 0}\n",
       ".list-inline>li {display: inline-block}\n",
       ".list-inline>li:not(:last-child)::after {content: \"\\00b7\"; padding: 0 .5ex}\n",
       "</style>\n",
       "<ol class=list-inline><li>2</li><li>4</li><li>6</li><li>8</li><li>10</li><li>12</li><li>14</li><li>16</li><li>18</li><li>20</li><li>22</li><li>24</li><li>26</li><li>28</li><li>30</li><li>32</li><li>34</li><li>36</li><li>38</li><li>40</li><li>42</li><li>44</li><li>46</li><li>48</li><li>50</li><li>52</li><li>54</li><li>56</li><li>58</li><li>60</li><li>62</li><li>64</li><li>66</li><li>68</li><li>70</li><li>72</li><li>74</li><li>76</li><li>78</li><li>80</li><li>82</li><li>84</li><li>86</li><li>88</li><li>90</li><li>92</li><li>94</li><li>96</li><li>98</li><li>100</li><li>102</li><li>104</li><li>106</li><li>108</li><li>110</li><li>112</li><li>114</li><li>116</li><li>118</li><li>120</li><li>122</li><li>124</li><li>126</li><li>128</li><li>130</li><li>132</li><li>134</li><li>136</li><li>138</li><li>140</li><li>142</li><li>144</li><li>146</li><li>148</li><li>150</li><li>152</li><li>154</li><li>156</li><li>158</li><li>160</li><li>162</li><li>164</li><li>166</li><li>168</li><li>170</li><li>172</li><li>174</li><li>176</li><li>178</li><li>180</li><li>182</li><li>184</li><li>186</li><li>188</li><li>190</li><li>192</li><li>194</li><li>196</li><li>198</li><li>200</li><li>202</li><li>204</li><li>206</li><li>208</li><li>210</li><li>212</li><li>214</li><li>216</li><li>218</li><li>220</li><li>222</li><li>224</li><li>226</li><li>228</li><li>230</li><li>232</li><li>234</li><li>236</li><li>238</li><li>240</li><li>242</li><li>244</li><li>246</li><li>248</li><li>250</li><li>252</li><li>254</li><li>256</li><li>258</li><li>260</li><li>262</li><li>264</li><li>266</li><li>268</li><li>270</li><li>272</li><li>274</li><li>276</li><li>278</li><li>280</li><li>282</li><li>284</li><li>286</li><li>288</li><li>290</li><li>292</li><li>294</li><li>296</li><li>298</li><li>300</li></ol>\n"
      ],
      "text/latex": [
       "\\begin{enumerate*}\n",
       "\\item 2\n",
       "\\item 4\n",
       "\\item 6\n",
       "\\item 8\n",
       "\\item 10\n",
       "\\item 12\n",
       "\\item 14\n",
       "\\item 16\n",
       "\\item 18\n",
       "\\item 20\n",
       "\\item 22\n",
       "\\item 24\n",
       "\\item 26\n",
       "\\item 28\n",
       "\\item 30\n",
       "\\item 32\n",
       "\\item 34\n",
       "\\item 36\n",
       "\\item 38\n",
       "\\item 40\n",
       "\\item 42\n",
       "\\item 44\n",
       "\\item 46\n",
       "\\item 48\n",
       "\\item 50\n",
       "\\item 52\n",
       "\\item 54\n",
       "\\item 56\n",
       "\\item 58\n",
       "\\item 60\n",
       "\\item 62\n",
       "\\item 64\n",
       "\\item 66\n",
       "\\item 68\n",
       "\\item 70\n",
       "\\item 72\n",
       "\\item 74\n",
       "\\item 76\n",
       "\\item 78\n",
       "\\item 80\n",
       "\\item 82\n",
       "\\item 84\n",
       "\\item 86\n",
       "\\item 88\n",
       "\\item 90\n",
       "\\item 92\n",
       "\\item 94\n",
       "\\item 96\n",
       "\\item 98\n",
       "\\item 100\n",
       "\\item 102\n",
       "\\item 104\n",
       "\\item 106\n",
       "\\item 108\n",
       "\\item 110\n",
       "\\item 112\n",
       "\\item 114\n",
       "\\item 116\n",
       "\\item 118\n",
       "\\item 120\n",
       "\\item 122\n",
       "\\item 124\n",
       "\\item 126\n",
       "\\item 128\n",
       "\\item 130\n",
       "\\item 132\n",
       "\\item 134\n",
       "\\item 136\n",
       "\\item 138\n",
       "\\item 140\n",
       "\\item 142\n",
       "\\item 144\n",
       "\\item 146\n",
       "\\item 148\n",
       "\\item 150\n",
       "\\item 152\n",
       "\\item 154\n",
       "\\item 156\n",
       "\\item 158\n",
       "\\item 160\n",
       "\\item 162\n",
       "\\item 164\n",
       "\\item 166\n",
       "\\item 168\n",
       "\\item 170\n",
       "\\item 172\n",
       "\\item 174\n",
       "\\item 176\n",
       "\\item 178\n",
       "\\item 180\n",
       "\\item 182\n",
       "\\item 184\n",
       "\\item 186\n",
       "\\item 188\n",
       "\\item 190\n",
       "\\item 192\n",
       "\\item 194\n",
       "\\item 196\n",
       "\\item 198\n",
       "\\item 200\n",
       "\\item 202\n",
       "\\item 204\n",
       "\\item 206\n",
       "\\item 208\n",
       "\\item 210\n",
       "\\item 212\n",
       "\\item 214\n",
       "\\item 216\n",
       "\\item 218\n",
       "\\item 220\n",
       "\\item 222\n",
       "\\item 224\n",
       "\\item 226\n",
       "\\item 228\n",
       "\\item 230\n",
       "\\item 232\n",
       "\\item 234\n",
       "\\item 236\n",
       "\\item 238\n",
       "\\item 240\n",
       "\\item 242\n",
       "\\item 244\n",
       "\\item 246\n",
       "\\item 248\n",
       "\\item 250\n",
       "\\item 252\n",
       "\\item 254\n",
       "\\item 256\n",
       "\\item 258\n",
       "\\item 260\n",
       "\\item 262\n",
       "\\item 264\n",
       "\\item 266\n",
       "\\item 268\n",
       "\\item 270\n",
       "\\item 272\n",
       "\\item 274\n",
       "\\item 276\n",
       "\\item 278\n",
       "\\item 280\n",
       "\\item 282\n",
       "\\item 284\n",
       "\\item 286\n",
       "\\item 288\n",
       "\\item 290\n",
       "\\item 292\n",
       "\\item 294\n",
       "\\item 296\n",
       "\\item 298\n",
       "\\item 300\n",
       "\\end{enumerate*}\n"
      ],
      "text/markdown": [
       "1. 2\n",
       "2. 4\n",
       "3. 6\n",
       "4. 8\n",
       "5. 10\n",
       "6. 12\n",
       "7. 14\n",
       "8. 16\n",
       "9. 18\n",
       "10. 20\n",
       "11. 22\n",
       "12. 24\n",
       "13. 26\n",
       "14. 28\n",
       "15. 30\n",
       "16. 32\n",
       "17. 34\n",
       "18. 36\n",
       "19. 38\n",
       "20. 40\n",
       "21. 42\n",
       "22. 44\n",
       "23. 46\n",
       "24. 48\n",
       "25. 50\n",
       "26. 52\n",
       "27. 54\n",
       "28. 56\n",
       "29. 58\n",
       "30. 60\n",
       "31. 62\n",
       "32. 64\n",
       "33. 66\n",
       "34. 68\n",
       "35. 70\n",
       "36. 72\n",
       "37. 74\n",
       "38. 76\n",
       "39. 78\n",
       "40. 80\n",
       "41. 82\n",
       "42. 84\n",
       "43. 86\n",
       "44. 88\n",
       "45. 90\n",
       "46. 92\n",
       "47. 94\n",
       "48. 96\n",
       "49. 98\n",
       "50. 100\n",
       "51. 102\n",
       "52. 104\n",
       "53. 106\n",
       "54. 108\n",
       "55. 110\n",
       "56. 112\n",
       "57. 114\n",
       "58. 116\n",
       "59. 118\n",
       "60. 120\n",
       "61. 122\n",
       "62. 124\n",
       "63. 126\n",
       "64. 128\n",
       "65. 130\n",
       "66. 132\n",
       "67. 134\n",
       "68. 136\n",
       "69. 138\n",
       "70. 140\n",
       "71. 142\n",
       "72. 144\n",
       "73. 146\n",
       "74. 148\n",
       "75. 150\n",
       "76. 152\n",
       "77. 154\n",
       "78. 156\n",
       "79. 158\n",
       "80. 160\n",
       "81. 162\n",
       "82. 164\n",
       "83. 166\n",
       "84. 168\n",
       "85. 170\n",
       "86. 172\n",
       "87. 174\n",
       "88. 176\n",
       "89. 178\n",
       "90. 180\n",
       "91. 182\n",
       "92. 184\n",
       "93. 186\n",
       "94. 188\n",
       "95. 190\n",
       "96. 192\n",
       "97. 194\n",
       "98. 196\n",
       "99. 198\n",
       "100. 200\n",
       "101. 202\n",
       "102. 204\n",
       "103. 206\n",
       "104. 208\n",
       "105. 210\n",
       "106. 212\n",
       "107. 214\n",
       "108. 216\n",
       "109. 218\n",
       "110. 220\n",
       "111. 222\n",
       "112. 224\n",
       "113. 226\n",
       "114. 228\n",
       "115. 230\n",
       "116. 232\n",
       "117. 234\n",
       "118. 236\n",
       "119. 238\n",
       "120. 240\n",
       "121. 242\n",
       "122. 244\n",
       "123. 246\n",
       "124. 248\n",
       "125. 250\n",
       "126. 252\n",
       "127. 254\n",
       "128. 256\n",
       "129. 258\n",
       "130. 260\n",
       "131. 262\n",
       "132. 264\n",
       "133. 266\n",
       "134. 268\n",
       "135. 270\n",
       "136. 272\n",
       "137. 274\n",
       "138. 276\n",
       "139. 278\n",
       "140. 280\n",
       "141. 282\n",
       "142. 284\n",
       "143. 286\n",
       "144. 288\n",
       "145. 290\n",
       "146. 292\n",
       "147. 294\n",
       "148. 296\n",
       "149. 298\n",
       "150. 300\n",
       "\n",
       "\n"
      ],
      "text/plain": [
       "  [1]   2   4   6   8  10  12  14  16  18  20  22  24  26  28  30  32  34  36\n",
       " [19]  38  40  42  44  46  48  50  52  54  56  58  60  62  64  66  68  70  72\n",
       " [37]  74  76  78  80  82  84  86  88  90  92  94  96  98 100 102 104 106 108\n",
       " [55] 110 112 114 116 118 120 122 124 126 128 130 132 134 136 138 140 142 144\n",
       " [73] 146 148 150 152 154 156 158 160 162 164 166 168 170 172 174 176 178 180\n",
       " [91] 182 184 186 188 190 192 194 196 198 200 202 204 206 208 210 212 214 216\n",
       "[109] 218 220 222 224 226 228 230 232 234 236 238 240 242 244 246 248 250 252\n",
       "[127] 254 256 258 260 262 264 266 268 270 272 274 276 278 280 282 284 286 288\n",
       "[145] 290 292 294 296 298 300"
      ]
     },
     "metadata": {},
     "output_type": "display_data"
    },
    {
     "name": "stdout",
     "output_type": "stream",
     "text": [
      "Total number of x divisible by 2 where x <- 1:300 is: 150"
     ]
    }
   ],
   "source": [
    "#1 e. count number of x divisible by 2, where x<-1:300 (use operator %%)\n",
    "x<- 1:300\n",
    "div_2 <- function(x) x[x %% 2 == 0]\n",
    "div_2(x)\n",
    "cat(\"Total number of x divisible by 2 where x <- 1:300 is:\", length(div_2(x)))"
   ]
  },
  {
   "cell_type": "markdown",
   "metadata": {},
   "source": [
    "# Exercise 2\n",
    "### Solve the following system of linear equations using Gaussian elimination (A x =y)\n",
    "#### x + 2y + 3z = 9\n",
    "#### 2x - y + 2z = −3\n",
    "#### 3x + 3y + z = 5"
   ]
  },
  {
   "cell_type": "code",
   "execution_count": null,
   "metadata": {},
   "outputs": [],
   "source": [
    "#2 Solve Linear Equation using Gaussian Elimination\n",
    "### Installing dependency and library for Guassian Elimination function\n",
    "install.packages(\"rgl\", repos=\"http://R-Forge.R-project.org\")\n",
    "install.packages(\"matlib\")"
   ]
  },
  {
   "cell_type": "code",
   "execution_count": null,
   "metadata": {},
   "outputs": [],
   "source": [
    "library(matlib)\n",
    "A <- matrix(c(1,2,3,2,-1,2,3,3,1), nrow = 3, ncol = 3, byrow=TRUE)\n",
    "B <- matrix(c(9,-3,5))\n",
    "cat(\"matrix of A:\\n\")\n",
    "print(A)\n",
    "cat(\"matrix of B:\\n\")\n",
    "print(B)\n",
    "answer <- gaussianElimination(A, B)\n",
    "cat(\"\\nAnswer matrix:\\n\")\n",
    "print(answer)\n",
    "cat(\"\\nThe Linear Equation System answer is: \\n\")\n",
    "cat(\"( x = \",answer[10], \", y = \", answer[11], \", z = \", answer[12], \" )\")"
   ]
  },
  {
   "cell_type": "markdown",
   "metadata": {},
   "source": [
    "# Exercise 3\n",
    "### Use outer function to create the matrix \n"
   ]
  },
  {
   "cell_type": "code",
   "execution_count": null,
   "metadata": {},
   "outputs": [],
   "source": [
    "# 3. Use Outer Function to create matrix\n",
    "a <- 0:4\n",
    "b <- 0:4\n",
    "output <- outer(a, b,\"+\")\n",
    "output"
   ]
  },
  {
   "cell_type": "markdown",
   "metadata": {},
   "source": [
    "# 4. Get the COVID-19 Dataset from the data sources. Number of observations should be more than 100. Then, report the following informations\n",
    "### a. Data Source detail(Ex: Link)\n",
    "\n",
    "### b. Explain the Unit & Necessity of each variable\n",
    "\n",
    "### c. Find the missing values(rows & columns) and replace them with mean(Tidy Dataset)\n",
    "\n",
    "### d. Generate the two new variables(Var1:Mean, Var2: Median from available variable)\n",
    "\n",
    "### e. Rename the two existing variables\n",
    "\n",
    "### f. Create a plot using following instructions (using 7 layers of Grammar of Graphics)\n",
    "\n",
    "####   i. Choose x and y axis(aes) \n",
    "\n",
    "####   ii. geom_point() - specify the parameters, size : 5, color: red, alpha: ⅕ \n",
    "\n",
    "####   iii. Use Facet grid, cartesian coordinates & geom_smooth() \n",
    "\n",
    "####   iv. Assign the title to x, y and graph \n",
    "\n",
    "####   v. Export the graph to your working directory with the title called “covid_19_ dataset.png”\n",
    "\n"
   ]
  },
  {
   "cell_type": "code",
   "execution_count": null,
   "metadata": {},
   "outputs": [],
   "source": [
    "# Import Dataset\n",
    "library(tidyverse)\n",
    "covid_data <- read_csv(\"../input/covid19-in-india/StatewiseTestingDetails.csv\")\n",
    "# find path in kaggle: list.files(path = \"../input\", recursive = TRUE)"
   ]
  },
  {
   "cell_type": "code",
   "execution_count": null,
   "metadata": {},
   "outputs": [],
   "source": [
    "# a. Data Source Link: https://www.kaggle.com/sudalairajkumar/covid19-in-india\n",
    "# b. Explain the Unit and Neccessity of each variable (see output)\n",
    "header<- names(covid_data)\n",
    "cat(\"All Variables of Dataset:\\n\")\n",
    "header\n",
    "cat(\"Each Variable Explanation\\n____________________\\n\")\n",
    "cat(header[1], \"\\t\\t: Date of observation\\n\")\n",
    "cat(header[2], \"\\t\\t: State Name \\n\")\n",
    "cat(header[3], \"\\t: Cumulative number of total samples tested till the given date \\n\")\n",
    "cat(header[4], \"\\t: Cumulative number of negative samples till the given date  \\n\")\n",
    "cat(header[5], \"\\t: Cumulative number of positive samples till the given date  \\n\")\n",
    "\n",
    "cat(\"____________________\\n\")"
   ]
  },
  {
   "cell_type": "code",
   "execution_count": null,
   "metadata": {},
   "outputs": [],
   "source": [
    "# c. Find the missing values(rows & columns) and replace them with mean(Tidy Dataset)\n",
    "covid_data[] <- lapply(covid_data, function(x) { \n",
    "  x[is.na(x)] <- mean(x, na.rm = TRUE)\n",
    "  x\n",
    "})\n",
    "covid_data"
   ]
  },
  {
   "cell_type": "code",
   "execution_count": null,
   "metadata": {},
   "outputs": [],
   "source": [
    "# d. Generate the two new variables(Var1:Mean, Var2: Median from available variable)\n",
    "covid_data %>% mutate(Mean=mean(Positive), Median=median(Positive))"
   ]
  },
  {
   "cell_type": "code",
   "execution_count": null,
   "metadata": {},
   "outputs": [],
   "source": [
    "# e. Rename the two existing variables\n",
    "covid_data %>% rename(Neg=Negative,Pos=Positive)"
   ]
  },
  {
   "cell_type": "code",
   "execution_count": null,
   "metadata": {},
   "outputs": [],
   "source": [
    "# f. Create a plot using following instructions (using 7 layers of Grammar of Graphics)\n",
    "# i. Choose x and y axis(aes) \n",
    "# Choose Date as X and Positive case of covid as Y\n",
    "data <- covid_data %>% group_by(State) %>% count(Date, wt = Positive) \n",
    "Date <- data[['Date']]\n",
    "Positive <- data[['n']]\n",
    "State <- data[['State']]\n",
    "data\n"
   ]
  },
  {
   "cell_type": "code",
   "execution_count": null,
   "metadata": {},
   "outputs": [],
   "source": []
  },
  {
   "cell_type": "code",
   "execution_count": null,
   "metadata": {},
   "outputs": [],
   "source": [
    "# ii. geom_point() - specify the parameters, size : 5, color: red, alpha: ⅕ \n",
    "# library(ggplot2)\n",
    "# gp = geom_point(alpha=1/5, color=\"red\", size=5)\n",
    "# gp\n",
    "# p <- ggplot(x = plot_data, mapping = aes(x = Date, y = Positive)) + gp\n",
    "# cat(\"Covid-19 Daily Positive Case Plot:\")\n",
    "# p\n",
    "library(ggplot2)\n",
    "gp = geom_point(alpha=1/5, color=\"red\", size=5)\n",
    "gp\n",
    "plot <- ggplot(x = data, mapping = aes(x = Date, y = Positive, group=State)) + gp\n",
    "plot"
   ]
  },
  {
   "cell_type": "code",
   "execution_count": null,
   "metadata": {},
   "outputs": [],
   "source": [
    "# iii. Use Facet grid, cartesian coordinates & geom_smooth() \n",
    "\n",
    "# facet_grid\n",
    "plot + facet_grid(Date)"
   ]
  },
  {
   "cell_type": "code",
   "execution_count": null,
   "metadata": {},
   "outputs": [],
   "source": [
    "plot + coord_cartesian(expand = FALSE)"
   ]
  },
  {
   "cell_type": "code",
   "execution_count": null,
   "metadata": {},
   "outputs": [],
   "source": [
    "#geom_smooth\n",
    "plot + geom_smooth()"
   ]
  },
  {
   "cell_type": "code",
   "execution_count": null,
   "metadata": {},
   "outputs": [],
   "source": [
    "# iv. Assign the title to x, y and graph \n",
    "plot <- plot + ggtitle(\"Number of Positive Covid-19 Cases in India States\") +\n",
    "  xlab(\"Date\") + ylab(\"Positive Cases\")\n",
    "plot"
   ]
  },
  {
   "cell_type": "code",
   "execution_count": 87,
   "metadata": {},
   "outputs": [
    {
     "name": "stderr",
     "output_type": "stream",
     "text": [
      "Saving 12.5 x 6.67 in image\n",
      "\n"
     ]
    }
   ],
   "source": [
    "# v. Export the graph to your working directory with the title called “covid_19_ dataset.png”\n",
    "ggsave(filename = \"Covid_19_Case_in_India.png\", plot=plot , dpi= 300)"
   ]
  },
  {
   "cell_type": "code",
   "execution_count": null,
   "metadata": {},
   "outputs": [],
   "source": []
  }
 ],
 "metadata": {
  "kernelspec": {
   "display_name": "R",
   "language": "R",
   "name": "ir"
  },
  "language_info": {
   "codemirror_mode": "r",
   "file_extension": ".r",
   "mimetype": "text/x-r-source",
   "name": "R",
   "pygments_lexer": "r",
   "version": "4.0.3"
  }
 },
 "nbformat": 4,
 "nbformat_minor": 4
}
